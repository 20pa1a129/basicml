{
  "nbformat": 4,
  "nbformat_minor": 0,
  "metadata": {
    "colab": {
      "name": "Untitled1.ipynb",
      "provenance": [],
      "authorship_tag": "ABX9TyN4aaN8qZuazGxUkerbybt6",
      "include_colab_link": true
    },
    "kernelspec": {
      "name": "python3",
      "display_name": "Python 3"
    },
    "language_info": {
      "name": "python"
    }
  },
  "cells": [
    {
      "cell_type": "markdown",
      "metadata": {
        "id": "view-in-github",
        "colab_type": "text"
      },
      "source": [
        "<a href=\"https://colab.research.google.com/github/20pa1a129/basicml/blob/main/Untitled1.ipynb\" target=\"_parent\"><img src=\"https://colab.research.google.com/assets/colab-badge.svg\" alt=\"Open In Colab\"/></a>"
      ]
    },
    {
      "cell_type": "markdown",
      "metadata": {
        "id": "NU4MNcshJBxB"
      },
      "source": [
        " #Python Program to Find the Square Root"
      ]
    },
    {
      "cell_type": "code",
      "metadata": {
        "id": "rgNn6pXcJKGo"
      },
      "source": [
        "# Python Program to calculate the square root\n",
        " \n",
        "# Note: change this value for a different result\n",
        "num = 8 \n",
        " \n",
        "# To take the input from the user\n",
        "#num = float(input('Enter a number: '))\n",
        " \n",
        "num_sqrt = num ** 0.5\n",
        "print('The square root of %0.3f is %0.3f'%(num ,num_sqrt))"
      ],
      "execution_count": null,
      "outputs": []
    },
    {
      "cell_type": "markdown",
      "metadata": {
        "id": "-AM1UoWoJMrw"
      },
      "source": [
        "#Python Program to Calculate the Area of a Triangle"
      ]
    },
    {
      "cell_type": "code",
      "metadata": {
        "id": "6FyigZuAJSMq"
      },
      "source": [
        "# Python Program to find the area of triangle\n",
        " \n",
        "a = 5\n",
        "b = 6\n",
        "c = 7\n",
        " \n",
        "# Uncomment below to take inputs from the user\n",
        "# a = float(input('Enter first side: '))\n",
        "# b = float(input('Enter second side: '))\n",
        "# c = float(input('Enter third side: '))\n",
        " \n",
        "# calculate the semi-perimeter\n",
        "s = (a + b + c) / 2\n",
        " \n",
        "# calculate the area\n",
        "area = (s*(s-a)*(s-b)*(s-c)) ** 0.5\n",
        "print('The area of the triangle is %0.2f' %area)"
      ],
      "execution_count": null,
      "outputs": []
    },
    {
      "cell_type": "markdown",
      "metadata": {
        "id": "ELrEL8x7JVwc"
      },
      "source": [
        " #Python Program to Swap Two Variables"
      ]
    },
    {
      "cell_type": "code",
      "metadata": {
        "id": "YOukBSDRJZCj"
      },
      "source": [
        "# Python program to swap two variables\n",
        "\n",
        "x = 5\n",
        "y = 10\n",
        "\n",
        "# To take inputs from the user\n",
        "#x = input('Enter value of x: ')\n",
        "#y = input('Enter value of y: ')\n",
        "\n",
        "# create a temporary variable and swap the values\n",
        "temp = x\n",
        "x = y\n",
        "y = temp\n",
        "\n",
        "print('The value of x after swapping: {}'.format(x))\n",
        "print('The value of y after swapping: {}'.format(y))"
      ],
      "execution_count": null,
      "outputs": []
    }
  ]
}